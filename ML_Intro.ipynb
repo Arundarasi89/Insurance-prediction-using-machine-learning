{
 "cells": [
  {
   "cell_type": "code",
   "execution_count": 1,
   "metadata": {
    "executionInfo": {
     "elapsed": 967,
     "status": "ok",
     "timestamp": 1612775506827,
     "user": {
      "displayName": "Sagar Shinde",
      "photoUrl": "",
      "userId": "15876155479888133658"
     },
     "user_tz": -330
    },
    "id": "oRlXhjVLeRoX"
   },
   "outputs": [],
   "source": [
    "#Import essential libraries\n",
    "import numpy as np\n",
    "import pandas as pd\n",
    "import matplotlib.pyplot as plt"
   ]
  },
  {
   "cell_type": "code",
   "execution_count": 3,
   "metadata": {
    "executionInfo": {
     "elapsed": 1005,
     "status": "ok",
     "timestamp": 1612775508897,
     "user": {
      "displayName": "Sagar Shinde",
      "photoUrl": "",
      "userId": "15876155479888133658"
     },
     "user_tz": -330
    },
    "id": "3ZU-hX1Se5N9"
   },
   "outputs": [],
   "source": [
    "#Import the dataset\n",
    "data = pd.read_csv(\"insurance.csv\")"
   ]
  },
  {
   "cell_type": "code",
   "execution_count": 4,
   "metadata": {
    "colab": {
     "base_uri": "https://localhost:8080/",
     "height": 204
    },
    "executionInfo": {
     "elapsed": 935,
     "status": "ok",
     "timestamp": 1612775510915,
     "user": {
      "displayName": "Sagar Shinde",
      "photoUrl": "",
      "userId": "15876155479888133658"
     },
     "user_tz": -330
    },
    "id": "L7qPZljchc0_",
    "outputId": "ef6f29e7-a939-40ad-8583-cad85bf8581d"
   },
   "outputs": [
    {
     "data": {
      "text/html": [
       "<div>\n",
       "<style scoped>\n",
       "    .dataframe tbody tr th:only-of-type {\n",
       "        vertical-align: middle;\n",
       "    }\n",
       "\n",
       "    .dataframe tbody tr th {\n",
       "        vertical-align: top;\n",
       "    }\n",
       "\n",
       "    .dataframe thead th {\n",
       "        text-align: right;\n",
       "    }\n",
       "</style>\n",
       "<table border=\"1\" class=\"dataframe\">\n",
       "  <thead>\n",
       "    <tr style=\"text-align: right;\">\n",
       "      <th></th>\n",
       "      <th>age</th>\n",
       "      <th>sex</th>\n",
       "      <th>bmi</th>\n",
       "      <th>children</th>\n",
       "      <th>smoker</th>\n",
       "      <th>region</th>\n",
       "      <th>charges</th>\n",
       "    </tr>\n",
       "  </thead>\n",
       "  <tbody>\n",
       "    <tr>\n",
       "      <th>0</th>\n",
       "      <td>19</td>\n",
       "      <td>female</td>\n",
       "      <td>27.900</td>\n",
       "      <td>0</td>\n",
       "      <td>yes</td>\n",
       "      <td>southwest</td>\n",
       "      <td>16884.92400</td>\n",
       "    </tr>\n",
       "    <tr>\n",
       "      <th>1</th>\n",
       "      <td>18</td>\n",
       "      <td>male</td>\n",
       "      <td>33.770</td>\n",
       "      <td>1</td>\n",
       "      <td>no</td>\n",
       "      <td>southeast</td>\n",
       "      <td>1725.55230</td>\n",
       "    </tr>\n",
       "    <tr>\n",
       "      <th>2</th>\n",
       "      <td>28</td>\n",
       "      <td>male</td>\n",
       "      <td>33.000</td>\n",
       "      <td>3</td>\n",
       "      <td>no</td>\n",
       "      <td>southeast</td>\n",
       "      <td>4449.46200</td>\n",
       "    </tr>\n",
       "    <tr>\n",
       "      <th>3</th>\n",
       "      <td>33</td>\n",
       "      <td>male</td>\n",
       "      <td>22.705</td>\n",
       "      <td>0</td>\n",
       "      <td>no</td>\n",
       "      <td>northwest</td>\n",
       "      <td>21984.47061</td>\n",
       "    </tr>\n",
       "    <tr>\n",
       "      <th>4</th>\n",
       "      <td>32</td>\n",
       "      <td>male</td>\n",
       "      <td>28.880</td>\n",
       "      <td>0</td>\n",
       "      <td>no</td>\n",
       "      <td>northwest</td>\n",
       "      <td>3866.85520</td>\n",
       "    </tr>\n",
       "  </tbody>\n",
       "</table>\n",
       "</div>"
      ],
      "text/plain": [
       "   age     sex     bmi  children smoker     region      charges\n",
       "0   19  female  27.900         0    yes  southwest  16884.92400\n",
       "1   18    male  33.770         1     no  southeast   1725.55230\n",
       "2   28    male  33.000         3     no  southeast   4449.46200\n",
       "3   33    male  22.705         0     no  northwest  21984.47061\n",
       "4   32    male  28.880         0     no  northwest   3866.85520"
      ]
     },
     "execution_count": 4,
     "metadata": {},
     "output_type": "execute_result"
    }
   ],
   "source": [
    "#Look at the first few records of dataset\n",
    "data.head()"
   ]
  },
  {
   "cell_type": "code",
   "execution_count": 5,
   "metadata": {
    "colab": {
     "base_uri": "https://localhost:8080/",
     "height": 297
    },
    "executionInfo": {
     "elapsed": 952,
     "status": "ok",
     "timestamp": 1612775517229,
     "user": {
      "displayName": "Sagar Shinde",
      "photoUrl": "",
      "userId": "15876155479888133658"
     },
     "user_tz": -330
    },
    "id": "6Erf_XELhkcu",
    "outputId": "08895614-2a03-43bd-9fc5-15cc1d624291"
   },
   "outputs": [
    {
     "data": {
      "text/html": [
       "<div>\n",
       "<style scoped>\n",
       "    .dataframe tbody tr th:only-of-type {\n",
       "        vertical-align: middle;\n",
       "    }\n",
       "\n",
       "    .dataframe tbody tr th {\n",
       "        vertical-align: top;\n",
       "    }\n",
       "\n",
       "    .dataframe thead th {\n",
       "        text-align: right;\n",
       "    }\n",
       "</style>\n",
       "<table border=\"1\" class=\"dataframe\">\n",
       "  <thead>\n",
       "    <tr style=\"text-align: right;\">\n",
       "      <th></th>\n",
       "      <th>age</th>\n",
       "      <th>bmi</th>\n",
       "      <th>children</th>\n",
       "      <th>charges</th>\n",
       "    </tr>\n",
       "  </thead>\n",
       "  <tbody>\n",
       "    <tr>\n",
       "      <th>count</th>\n",
       "      <td>1338.000000</td>\n",
       "      <td>1338.000000</td>\n",
       "      <td>1338.000000</td>\n",
       "      <td>1338.000000</td>\n",
       "    </tr>\n",
       "    <tr>\n",
       "      <th>mean</th>\n",
       "      <td>39.207025</td>\n",
       "      <td>30.663397</td>\n",
       "      <td>1.094918</td>\n",
       "      <td>13270.422265</td>\n",
       "    </tr>\n",
       "    <tr>\n",
       "      <th>std</th>\n",
       "      <td>14.049960</td>\n",
       "      <td>6.098187</td>\n",
       "      <td>1.205493</td>\n",
       "      <td>12110.011237</td>\n",
       "    </tr>\n",
       "    <tr>\n",
       "      <th>min</th>\n",
       "      <td>18.000000</td>\n",
       "      <td>15.960000</td>\n",
       "      <td>0.000000</td>\n",
       "      <td>1121.873900</td>\n",
       "    </tr>\n",
       "    <tr>\n",
       "      <th>25%</th>\n",
       "      <td>27.000000</td>\n",
       "      <td>26.296250</td>\n",
       "      <td>0.000000</td>\n",
       "      <td>4740.287150</td>\n",
       "    </tr>\n",
       "    <tr>\n",
       "      <th>50%</th>\n",
       "      <td>39.000000</td>\n",
       "      <td>30.400000</td>\n",
       "      <td>1.000000</td>\n",
       "      <td>9382.033000</td>\n",
       "    </tr>\n",
       "    <tr>\n",
       "      <th>75%</th>\n",
       "      <td>51.000000</td>\n",
       "      <td>34.693750</td>\n",
       "      <td>2.000000</td>\n",
       "      <td>16639.912515</td>\n",
       "    </tr>\n",
       "    <tr>\n",
       "      <th>max</th>\n",
       "      <td>64.000000</td>\n",
       "      <td>53.130000</td>\n",
       "      <td>5.000000</td>\n",
       "      <td>63770.428010</td>\n",
       "    </tr>\n",
       "  </tbody>\n",
       "</table>\n",
       "</div>"
      ],
      "text/plain": [
       "               age          bmi     children       charges\n",
       "count  1338.000000  1338.000000  1338.000000   1338.000000\n",
       "mean     39.207025    30.663397     1.094918  13270.422265\n",
       "std      14.049960     6.098187     1.205493  12110.011237\n",
       "min      18.000000    15.960000     0.000000   1121.873900\n",
       "25%      27.000000    26.296250     0.000000   4740.287150\n",
       "50%      39.000000    30.400000     1.000000   9382.033000\n",
       "75%      51.000000    34.693750     2.000000  16639.912515\n",
       "max      64.000000    53.130000     5.000000  63770.428010"
      ]
     },
     "execution_count": 5,
     "metadata": {},
     "output_type": "execute_result"
    }
   ],
   "source": [
    "#Look at the statistcical details of the data\n",
    "data.describe()"
   ]
  },
  {
   "cell_type": "code",
   "execution_count": 6,
   "metadata": {
    "colab": {
     "base_uri": "https://localhost:8080/"
    },
    "executionInfo": {
     "elapsed": 916,
     "status": "ok",
     "timestamp": 1612775530693,
     "user": {
      "displayName": "Sagar Shinde",
      "photoUrl": "",
      "userId": "15876155479888133658"
     },
     "user_tz": -330
    },
    "id": "jadBpBdjjyyd",
    "outputId": "2725f0b7-6273-4e60-808c-04bc6a81c4d4"
   },
   "outputs": [
    {
     "name": "stdout",
     "output_type": "stream",
     "text": [
      "<class 'pandas.core.frame.DataFrame'>\n",
      "RangeIndex: 1338 entries, 0 to 1337\n",
      "Data columns (total 7 columns):\n",
      " #   Column    Non-Null Count  Dtype  \n",
      "---  ------    --------------  -----  \n",
      " 0   age       1338 non-null   int64  \n",
      " 1   sex       1338 non-null   object \n",
      " 2   bmi       1338 non-null   float64\n",
      " 3   children  1338 non-null   int64  \n",
      " 4   smoker    1338 non-null   object \n",
      " 5   region    1338 non-null   object \n",
      " 6   charges   1338 non-null   float64\n",
      "dtypes: float64(2), int64(2), object(3)\n",
      "memory usage: 73.3+ KB\n"
     ]
    }
   ],
   "source": [
    "#Look at the details of the variables of data\n",
    "data.info()"
   ]
  },
  {
   "cell_type": "code",
   "execution_count": 7,
   "metadata": {
    "colab": {
     "base_uri": "https://localhost:8080/"
    },
    "executionInfo": {
     "elapsed": 924,
     "status": "ok",
     "timestamp": 1612775542403,
     "user": {
      "displayName": "Sagar Shinde",
      "photoUrl": "",
      "userId": "15876155479888133658"
     },
     "user_tz": -330
    },
    "id": "0I8VzsKwkLk9",
    "outputId": "73af9da6-c7c9-49d2-eefb-c486bb881287"
   },
   "outputs": [
    {
     "data": {
      "text/plain": [
       "age         0\n",
       "sex         0\n",
       "bmi         0\n",
       "children    0\n",
       "smoker      0\n",
       "region      0\n",
       "charges     0\n",
       "dtype: int64"
      ]
     },
     "execution_count": 7,
     "metadata": {},
     "output_type": "execute_result"
    }
   ],
   "source": [
    "#Look for missing values in data\n",
    "data.isna().sum()"
   ]
  },
  {
   "cell_type": "code",
   "execution_count": 8,
   "metadata": {
    "colab": {
     "base_uri": "https://localhost:8080/",
     "height": 224
    },
    "executionInfo": {
     "elapsed": 660,
     "status": "ok",
     "timestamp": 1612773625266,
     "user": {
      "displayName": "Sagar Shinde",
      "photoUrl": "",
      "userId": "15876155479888133658"
     },
     "user_tz": -330
    },
    "id": "q6tP8S_9kYn7",
    "outputId": "dadeaf5f-f323-49a0-cc26-e4678719458e"
   },
   "outputs": [
    {
     "data": {
      "text/html": [
       "<div>\n",
       "<style scoped>\n",
       "    .dataframe tbody tr th:only-of-type {\n",
       "        vertical-align: middle;\n",
       "    }\n",
       "\n",
       "    .dataframe tbody tr th {\n",
       "        vertical-align: top;\n",
       "    }\n",
       "\n",
       "    .dataframe thead th {\n",
       "        text-align: right;\n",
       "    }\n",
       "</style>\n",
       "<table border=\"1\" class=\"dataframe\">\n",
       "  <thead>\n",
       "    <tr style=\"text-align: right;\">\n",
       "      <th></th>\n",
       "      <th>age</th>\n",
       "      <th>bmi</th>\n",
       "      <th>children</th>\n",
       "      <th>charges</th>\n",
       "      <th>sex_female</th>\n",
       "      <th>sex_male</th>\n",
       "      <th>smoker_no</th>\n",
       "      <th>smoker_yes</th>\n",
       "      <th>region_northeast</th>\n",
       "      <th>region_northwest</th>\n",
       "      <th>region_southeast</th>\n",
       "      <th>region_southwest</th>\n",
       "    </tr>\n",
       "  </thead>\n",
       "  <tbody>\n",
       "    <tr>\n",
       "      <th>0</th>\n",
       "      <td>19</td>\n",
       "      <td>27.900</td>\n",
       "      <td>0</td>\n",
       "      <td>16884.92400</td>\n",
       "      <td>1</td>\n",
       "      <td>0</td>\n",
       "      <td>0</td>\n",
       "      <td>1</td>\n",
       "      <td>0</td>\n",
       "      <td>0</td>\n",
       "      <td>0</td>\n",
       "      <td>1</td>\n",
       "    </tr>\n",
       "    <tr>\n",
       "      <th>1</th>\n",
       "      <td>18</td>\n",
       "      <td>33.770</td>\n",
       "      <td>1</td>\n",
       "      <td>1725.55230</td>\n",
       "      <td>0</td>\n",
       "      <td>1</td>\n",
       "      <td>1</td>\n",
       "      <td>0</td>\n",
       "      <td>0</td>\n",
       "      <td>0</td>\n",
       "      <td>1</td>\n",
       "      <td>0</td>\n",
       "    </tr>\n",
       "    <tr>\n",
       "      <th>2</th>\n",
       "      <td>28</td>\n",
       "      <td>33.000</td>\n",
       "      <td>3</td>\n",
       "      <td>4449.46200</td>\n",
       "      <td>0</td>\n",
       "      <td>1</td>\n",
       "      <td>1</td>\n",
       "      <td>0</td>\n",
       "      <td>0</td>\n",
       "      <td>0</td>\n",
       "      <td>1</td>\n",
       "      <td>0</td>\n",
       "    </tr>\n",
       "    <tr>\n",
       "      <th>3</th>\n",
       "      <td>33</td>\n",
       "      <td>22.705</td>\n",
       "      <td>0</td>\n",
       "      <td>21984.47061</td>\n",
       "      <td>0</td>\n",
       "      <td>1</td>\n",
       "      <td>1</td>\n",
       "      <td>0</td>\n",
       "      <td>0</td>\n",
       "      <td>1</td>\n",
       "      <td>0</td>\n",
       "      <td>0</td>\n",
       "    </tr>\n",
       "    <tr>\n",
       "      <th>4</th>\n",
       "      <td>32</td>\n",
       "      <td>28.880</td>\n",
       "      <td>0</td>\n",
       "      <td>3866.85520</td>\n",
       "      <td>0</td>\n",
       "      <td>1</td>\n",
       "      <td>1</td>\n",
       "      <td>0</td>\n",
       "      <td>0</td>\n",
       "      <td>1</td>\n",
       "      <td>0</td>\n",
       "      <td>0</td>\n",
       "    </tr>\n",
       "  </tbody>\n",
       "</table>\n",
       "</div>"
      ],
      "text/plain": [
       "   age     bmi  children      charges  sex_female  sex_male  smoker_no  \\\n",
       "0   19  27.900         0  16884.92400           1         0          0   \n",
       "1   18  33.770         1   1725.55230           0         1          1   \n",
       "2   28  33.000         3   4449.46200           0         1          1   \n",
       "3   33  22.705         0  21984.47061           0         1          1   \n",
       "4   32  28.880         0   3866.85520           0         1          1   \n",
       "\n",
       "   smoker_yes  region_northeast  region_northwest  region_southeast  \\\n",
       "0           1                 0                 0                 0   \n",
       "1           0                 0                 0                 1   \n",
       "2           0                 0                 0                 1   \n",
       "3           0                 0                 1                 0   \n",
       "4           0                 0                 1                 0   \n",
       "\n",
       "   region_southwest  \n",
       "0                 1  \n",
       "1                 0  \n",
       "2                 0  \n",
       "3                 0  \n",
       "4                 0  "
      ]
     },
     "execution_count": 8,
     "metadata": {},
     "output_type": "execute_result"
    }
   ],
   "source": [
    "#Get the data in numerical form\n",
    "data = pd.get_dummies(data)\n",
    "data.head()"
   ]
  },
  {
   "cell_type": "code",
   "execution_count": 9,
   "metadata": {
    "executionInfo": {
     "elapsed": 927,
     "status": "ok",
     "timestamp": 1612773630498,
     "user": {
      "displayName": "Sagar Shinde",
      "photoUrl": "",
      "userId": "15876155479888133658"
     },
     "user_tz": -330
    },
    "id": "ypmDYyMfmkDz"
   },
   "outputs": [],
   "source": [
    "data.drop(['sex_female','smoker_no'],axis = 1,inplace = True)"
   ]
  },
  {
   "cell_type": "code",
   "execution_count": 10,
   "metadata": {
    "executionInfo": {
     "elapsed": 682,
     "status": "ok",
     "timestamp": 1612773632027,
     "user": {
      "displayName": "Sagar Shinde",
      "photoUrl": "",
      "userId": "15876155479888133658"
     },
     "user_tz": -330
    },
    "id": "MLa2AXgspzFX"
   },
   "outputs": [],
   "source": [
    "data.rename(columns = {'sex_male':'gender','smoker_yes':'smoker'},inplace = True)"
   ]
  },
  {
   "cell_type": "code",
   "execution_count": 11,
   "metadata": {
    "colab": {
     "base_uri": "https://localhost:8080/",
     "height": 224
    },
    "executionInfo": {
     "elapsed": 735,
     "status": "ok",
     "timestamp": 1612773633579,
     "user": {
      "displayName": "Sagar Shinde",
      "photoUrl": "",
      "userId": "15876155479888133658"
     },
     "user_tz": -330
    },
    "id": "ifdekXynqrXc",
    "outputId": "7c1af19d-a4d1-4470-f420-832c3ee0bbc5"
   },
   "outputs": [
    {
     "data": {
      "text/html": [
       "<div>\n",
       "<style scoped>\n",
       "    .dataframe tbody tr th:only-of-type {\n",
       "        vertical-align: middle;\n",
       "    }\n",
       "\n",
       "    .dataframe tbody tr th {\n",
       "        vertical-align: top;\n",
       "    }\n",
       "\n",
       "    .dataframe thead th {\n",
       "        text-align: right;\n",
       "    }\n",
       "</style>\n",
       "<table border=\"1\" class=\"dataframe\">\n",
       "  <thead>\n",
       "    <tr style=\"text-align: right;\">\n",
       "      <th></th>\n",
       "      <th>age</th>\n",
       "      <th>bmi</th>\n",
       "      <th>children</th>\n",
       "      <th>charges</th>\n",
       "      <th>gender</th>\n",
       "      <th>smoker</th>\n",
       "      <th>region_northeast</th>\n",
       "      <th>region_northwest</th>\n",
       "      <th>region_southeast</th>\n",
       "      <th>region_southwest</th>\n",
       "    </tr>\n",
       "  </thead>\n",
       "  <tbody>\n",
       "    <tr>\n",
       "      <th>0</th>\n",
       "      <td>19</td>\n",
       "      <td>27.900</td>\n",
       "      <td>0</td>\n",
       "      <td>16884.92400</td>\n",
       "      <td>0</td>\n",
       "      <td>1</td>\n",
       "      <td>0</td>\n",
       "      <td>0</td>\n",
       "      <td>0</td>\n",
       "      <td>1</td>\n",
       "    </tr>\n",
       "    <tr>\n",
       "      <th>1</th>\n",
       "      <td>18</td>\n",
       "      <td>33.770</td>\n",
       "      <td>1</td>\n",
       "      <td>1725.55230</td>\n",
       "      <td>1</td>\n",
       "      <td>0</td>\n",
       "      <td>0</td>\n",
       "      <td>0</td>\n",
       "      <td>1</td>\n",
       "      <td>0</td>\n",
       "    </tr>\n",
       "    <tr>\n",
       "      <th>2</th>\n",
       "      <td>28</td>\n",
       "      <td>33.000</td>\n",
       "      <td>3</td>\n",
       "      <td>4449.46200</td>\n",
       "      <td>1</td>\n",
       "      <td>0</td>\n",
       "      <td>0</td>\n",
       "      <td>0</td>\n",
       "      <td>1</td>\n",
       "      <td>0</td>\n",
       "    </tr>\n",
       "    <tr>\n",
       "      <th>3</th>\n",
       "      <td>33</td>\n",
       "      <td>22.705</td>\n",
       "      <td>0</td>\n",
       "      <td>21984.47061</td>\n",
       "      <td>1</td>\n",
       "      <td>0</td>\n",
       "      <td>0</td>\n",
       "      <td>1</td>\n",
       "      <td>0</td>\n",
       "      <td>0</td>\n",
       "    </tr>\n",
       "    <tr>\n",
       "      <th>4</th>\n",
       "      <td>32</td>\n",
       "      <td>28.880</td>\n",
       "      <td>0</td>\n",
       "      <td>3866.85520</td>\n",
       "      <td>1</td>\n",
       "      <td>0</td>\n",
       "      <td>0</td>\n",
       "      <td>1</td>\n",
       "      <td>0</td>\n",
       "      <td>0</td>\n",
       "    </tr>\n",
       "  </tbody>\n",
       "</table>\n",
       "</div>"
      ],
      "text/plain": [
       "   age     bmi  children      charges  gender  smoker  region_northeast  \\\n",
       "0   19  27.900         0  16884.92400       0       1                 0   \n",
       "1   18  33.770         1   1725.55230       1       0                 0   \n",
       "2   28  33.000         3   4449.46200       1       0                 0   \n",
       "3   33  22.705         0  21984.47061       1       0                 0   \n",
       "4   32  28.880         0   3866.85520       1       0                 0   \n",
       "\n",
       "   region_northwest  region_southeast  region_southwest  \n",
       "0                 0                 0                 1  \n",
       "1                 0                 1                 0  \n",
       "2                 0                 1                 0  \n",
       "3                 1                 0                 0  \n",
       "4                 1                 0                 0  "
      ]
     },
     "execution_count": 11,
     "metadata": {},
     "output_type": "execute_result"
    }
   ],
   "source": [
    "data.head()"
   ]
  },
  {
   "cell_type": "code",
   "execution_count": 12,
   "metadata": {
    "colab": {
     "base_uri": "https://localhost:8080/",
     "height": 224
    },
    "executionInfo": {
     "elapsed": 957,
     "status": "ok",
     "timestamp": 1612773638696,
     "user": {
      "displayName": "Sagar Shinde",
      "photoUrl": "",
      "userId": "15876155479888133658"
     },
     "user_tz": -330
    },
    "id": "ullfKJNzq-R7",
    "outputId": "f94adedd-cf1d-4474-e454-c0f810b87215"
   },
   "outputs": [
    {
     "data": {
      "text/html": [
       "<div>\n",
       "<style scoped>\n",
       "    .dataframe tbody tr th:only-of-type {\n",
       "        vertical-align: middle;\n",
       "    }\n",
       "\n",
       "    .dataframe tbody tr th {\n",
       "        vertical-align: top;\n",
       "    }\n",
       "\n",
       "    .dataframe thead th {\n",
       "        text-align: right;\n",
       "    }\n",
       "</style>\n",
       "<table border=\"1\" class=\"dataframe\">\n",
       "  <thead>\n",
       "    <tr style=\"text-align: right;\">\n",
       "      <th></th>\n",
       "      <th>age</th>\n",
       "      <th>bmi</th>\n",
       "      <th>children</th>\n",
       "      <th>gender</th>\n",
       "      <th>smoker</th>\n",
       "      <th>region_northeast</th>\n",
       "      <th>region_northwest</th>\n",
       "      <th>region_southeast</th>\n",
       "      <th>region_southwest</th>\n",
       "    </tr>\n",
       "  </thead>\n",
       "  <tbody>\n",
       "    <tr>\n",
       "      <th>0</th>\n",
       "      <td>19</td>\n",
       "      <td>27.900</td>\n",
       "      <td>0</td>\n",
       "      <td>0</td>\n",
       "      <td>1</td>\n",
       "      <td>0</td>\n",
       "      <td>0</td>\n",
       "      <td>0</td>\n",
       "      <td>1</td>\n",
       "    </tr>\n",
       "    <tr>\n",
       "      <th>1</th>\n",
       "      <td>18</td>\n",
       "      <td>33.770</td>\n",
       "      <td>1</td>\n",
       "      <td>1</td>\n",
       "      <td>0</td>\n",
       "      <td>0</td>\n",
       "      <td>0</td>\n",
       "      <td>1</td>\n",
       "      <td>0</td>\n",
       "    </tr>\n",
       "    <tr>\n",
       "      <th>2</th>\n",
       "      <td>28</td>\n",
       "      <td>33.000</td>\n",
       "      <td>3</td>\n",
       "      <td>1</td>\n",
       "      <td>0</td>\n",
       "      <td>0</td>\n",
       "      <td>0</td>\n",
       "      <td>1</td>\n",
       "      <td>0</td>\n",
       "    </tr>\n",
       "    <tr>\n",
       "      <th>3</th>\n",
       "      <td>33</td>\n",
       "      <td>22.705</td>\n",
       "      <td>0</td>\n",
       "      <td>1</td>\n",
       "      <td>0</td>\n",
       "      <td>0</td>\n",
       "      <td>1</td>\n",
       "      <td>0</td>\n",
       "      <td>0</td>\n",
       "    </tr>\n",
       "    <tr>\n",
       "      <th>4</th>\n",
       "      <td>32</td>\n",
       "      <td>28.880</td>\n",
       "      <td>0</td>\n",
       "      <td>1</td>\n",
       "      <td>0</td>\n",
       "      <td>0</td>\n",
       "      <td>1</td>\n",
       "      <td>0</td>\n",
       "      <td>0</td>\n",
       "    </tr>\n",
       "  </tbody>\n",
       "</table>\n",
       "</div>"
      ],
      "text/plain": [
       "   age     bmi  children  gender  smoker  region_northeast  region_northwest  \\\n",
       "0   19  27.900         0       0       1                 0                 0   \n",
       "1   18  33.770         1       1       0                 0                 0   \n",
       "2   28  33.000         3       1       0                 0                 0   \n",
       "3   33  22.705         0       1       0                 0                 1   \n",
       "4   32  28.880         0       1       0                 0                 1   \n",
       "\n",
       "   region_southeast  region_southwest  \n",
       "0                 0                 1  \n",
       "1                 1                 0  \n",
       "2                 1                 0  \n",
       "3                 0                 0  \n",
       "4                 0                 0  "
      ]
     },
     "execution_count": 12,
     "metadata": {},
     "output_type": "execute_result"
    }
   ],
   "source": [
    "#Dividing data in independant and dependant datasets\n",
    "\n",
    "#Independant Variable\n",
    "X = data.drop('charges',axis = 1)\n",
    "X.head()"
   ]
  },
  {
   "cell_type": "code",
   "execution_count": 13,
   "metadata": {
    "colab": {
     "base_uri": "https://localhost:8080/",
     "height": 204
    },
    "executionInfo": {
     "elapsed": 958,
     "status": "ok",
     "timestamp": 1612773641261,
     "user": {
      "displayName": "Sagar Shinde",
      "photoUrl": "",
      "userId": "15876155479888133658"
     },
     "user_tz": -330
    },
    "id": "xRNtbwtXrjdr",
    "outputId": "8c799261-ea12-4db8-cccf-a6285223aad9"
   },
   "outputs": [
    {
     "data": {
      "text/html": [
       "<div>\n",
       "<style scoped>\n",
       "    .dataframe tbody tr th:only-of-type {\n",
       "        vertical-align: middle;\n",
       "    }\n",
       "\n",
       "    .dataframe tbody tr th {\n",
       "        vertical-align: top;\n",
       "    }\n",
       "\n",
       "    .dataframe thead th {\n",
       "        text-align: right;\n",
       "    }\n",
       "</style>\n",
       "<table border=\"1\" class=\"dataframe\">\n",
       "  <thead>\n",
       "    <tr style=\"text-align: right;\">\n",
       "      <th></th>\n",
       "      <th>charges</th>\n",
       "    </tr>\n",
       "  </thead>\n",
       "  <tbody>\n",
       "    <tr>\n",
       "      <th>0</th>\n",
       "      <td>16884.92400</td>\n",
       "    </tr>\n",
       "    <tr>\n",
       "      <th>1</th>\n",
       "      <td>1725.55230</td>\n",
       "    </tr>\n",
       "    <tr>\n",
       "      <th>2</th>\n",
       "      <td>4449.46200</td>\n",
       "    </tr>\n",
       "    <tr>\n",
       "      <th>3</th>\n",
       "      <td>21984.47061</td>\n",
       "    </tr>\n",
       "    <tr>\n",
       "      <th>4</th>\n",
       "      <td>3866.85520</td>\n",
       "    </tr>\n",
       "  </tbody>\n",
       "</table>\n",
       "</div>"
      ],
      "text/plain": [
       "       charges\n",
       "0  16884.92400\n",
       "1   1725.55230\n",
       "2   4449.46200\n",
       "3  21984.47061\n",
       "4   3866.85520"
      ]
     },
     "execution_count": 13,
     "metadata": {},
     "output_type": "execute_result"
    }
   ],
   "source": [
    "#Dependant Variable\n",
    "Y = pd.DataFrame(data['charges'])\n",
    "Y.head()"
   ]
  },
  {
   "cell_type": "code",
   "execution_count": 14,
   "metadata": {
    "colab": {
     "base_uri": "https://localhost:8080/"
    },
    "executionInfo": {
     "elapsed": 921,
     "status": "ok",
     "timestamp": 1612773646327,
     "user": {
      "displayName": "Sagar Shinde",
      "photoUrl": "",
      "userId": "15876155479888133658"
     },
     "user_tz": -330
    },
    "id": "5ddIH2fvsUwQ",
    "outputId": "c0ab185b-9b5a-479f-af51-c1f40b82ce05"
   },
   "outputs": [
    {
     "name": "stdout",
     "output_type": "stream",
     "text": [
      "(1070, 9)\n",
      "(1070, 1)\n",
      "(268, 9)\n",
      "(268, 1)\n"
     ]
    }
   ],
   "source": [
    "#Divide the data into training and testing data\n",
    "from sklearn.model_selection import train_test_split\n",
    "\n",
    "X_train, X_test ,  Y_train ,Y_test = train_test_split(X,Y, test_size = 0.2 , random_state = 2)\n",
    "\n",
    "print(X_train.shape)\n",
    "print(Y_train.shape)\n",
    "print(X_test.shape)\n",
    "print(Y_test.shape)"
   ]
  },
  {
   "cell_type": "code",
   "execution_count": 15,
   "metadata": {
    "executionInfo": {
     "elapsed": 974,
     "status": "ok",
     "timestamp": 1612773648313,
     "user": {
      "displayName": "Sagar Shinde",
      "photoUrl": "",
      "userId": "15876155479888133658"
     },
     "user_tz": -330
    },
    "id": "Vhmr_23dt-YS"
   },
   "outputs": [],
   "source": [
    "#Lets implement simple linear regression\n",
    "\n",
    "from sklearn.linear_model import LinearRegression\n",
    "simple_linreg = LinearRegression()"
   ]
  },
  {
   "cell_type": "code",
   "execution_count": 16,
   "metadata": {
    "executionInfo": {
     "elapsed": 1025,
     "status": "ok",
     "timestamp": 1612773654124,
     "user": {
      "displayName": "Sagar Shinde",
      "photoUrl": "",
      "userId": "15876155479888133658"
     },
     "user_tz": -330
    },
    "id": "uS84TYCDutmU"
   },
   "outputs": [],
   "source": [
    "#Fit or train the model with training data\n",
    "simple_linreg.fit(pd.DataFrame(X_train.smoker) , Y_train)\n",
    "\n",
    "#Predict on the test set for single feature \n",
    "Y_pred = simple_linreg.predict(pd.DataFrame(X_test.smoker))"
   ]
  },
  {
   "cell_type": "code",
   "execution_count": 17,
   "metadata": {
    "colab": {
     "base_uri": "https://localhost:8080/"
    },
    "executionInfo": {
     "elapsed": 968,
     "status": "ok",
     "timestamp": 1612773655908,
     "user": {
      "displayName": "Sagar Shinde",
      "photoUrl": "",
      "userId": "15876155479888133658"
     },
     "user_tz": -330
    },
    "id": "ZxLl86CdwHrb",
    "outputId": "8e3ef98c-94cb-40ad-ef1f-9e96b48a28b5"
   },
   "outputs": [
    {
     "data": {
      "text/plain": [
       "array([[ 8525.30007694],\n",
       "       [ 8525.30007694],\n",
       "       [ 8525.30007694],\n",
       "       [ 8525.30007694],\n",
       "       [ 8525.30007694],\n",
       "       [ 8525.30007694],\n",
       "       [ 8525.30007694],\n",
       "       [ 8525.30007694],\n",
       "       [ 8525.30007694],\n",
       "       [ 8525.30007694],\n",
       "       [ 8525.30007694],\n",
       "       [ 8525.30007694],\n",
       "       [32221.61500274],\n",
       "       [ 8525.30007694],\n",
       "       [ 8525.30007694],\n",
       "       [ 8525.30007694],\n",
       "       [ 8525.30007694],\n",
       "       [ 8525.30007694],\n",
       "       [32221.61500274],\n",
       "       [ 8525.30007694],\n",
       "       [ 8525.30007694],\n",
       "       [ 8525.30007694],\n",
       "       [32221.61500274],\n",
       "       [32221.61500274],\n",
       "       [32221.61500274],\n",
       "       [ 8525.30007694],\n",
       "       [ 8525.30007694],\n",
       "       [ 8525.30007694],\n",
       "       [ 8525.30007694],\n",
       "       [ 8525.30007694],\n",
       "       [ 8525.30007694],\n",
       "       [ 8525.30007694],\n",
       "       [ 8525.30007694],\n",
       "       [ 8525.30007694],\n",
       "       [ 8525.30007694],\n",
       "       [ 8525.30007694],\n",
       "       [32221.61500274],\n",
       "       [ 8525.30007694],\n",
       "       [32221.61500274],\n",
       "       [ 8525.30007694],\n",
       "       [ 8525.30007694],\n",
       "       [32221.61500274],\n",
       "       [ 8525.30007694],\n",
       "       [ 8525.30007694],\n",
       "       [ 8525.30007694],\n",
       "       [ 8525.30007694],\n",
       "       [ 8525.30007694],\n",
       "       [ 8525.30007694],\n",
       "       [ 8525.30007694],\n",
       "       [ 8525.30007694],\n",
       "       [ 8525.30007694],\n",
       "       [ 8525.30007694],\n",
       "       [32221.61500274],\n",
       "       [32221.61500274],\n",
       "       [ 8525.30007694],\n",
       "       [ 8525.30007694],\n",
       "       [ 8525.30007694],\n",
       "       [ 8525.30007694],\n",
       "       [ 8525.30007694],\n",
       "       [32221.61500274],\n",
       "       [ 8525.30007694],\n",
       "       [ 8525.30007694],\n",
       "       [ 8525.30007694],\n",
       "       [32221.61500274],\n",
       "       [ 8525.30007694],\n",
       "       [ 8525.30007694],\n",
       "       [ 8525.30007694],\n",
       "       [ 8525.30007694],\n",
       "       [ 8525.30007694],\n",
       "       [ 8525.30007694],\n",
       "       [ 8525.30007694],\n",
       "       [ 8525.30007694],\n",
       "       [ 8525.30007694],\n",
       "       [ 8525.30007694],\n",
       "       [ 8525.30007694],\n",
       "       [ 8525.30007694],\n",
       "       [ 8525.30007694],\n",
       "       [ 8525.30007694],\n",
       "       [ 8525.30007694],\n",
       "       [ 8525.30007694],\n",
       "       [ 8525.30007694],\n",
       "       [ 8525.30007694],\n",
       "       [ 8525.30007694],\n",
       "       [32221.61500274],\n",
       "       [ 8525.30007694],\n",
       "       [ 8525.30007694],\n",
       "       [32221.61500274],\n",
       "       [ 8525.30007694],\n",
       "       [ 8525.30007694],\n",
       "       [ 8525.30007694],\n",
       "       [ 8525.30007694],\n",
       "       [ 8525.30007694],\n",
       "       [ 8525.30007694],\n",
       "       [ 8525.30007694],\n",
       "       [ 8525.30007694],\n",
       "       [32221.61500274],\n",
       "       [ 8525.30007694],\n",
       "       [ 8525.30007694],\n",
       "       [ 8525.30007694],\n",
       "       [32221.61500274],\n",
       "       [ 8525.30007694],\n",
       "       [ 8525.30007694],\n",
       "       [ 8525.30007694],\n",
       "       [ 8525.30007694],\n",
       "       [ 8525.30007694],\n",
       "       [ 8525.30007694],\n",
       "       [ 8525.30007694],\n",
       "       [ 8525.30007694],\n",
       "       [ 8525.30007694],\n",
       "       [32221.61500274],\n",
       "       [ 8525.30007694],\n",
       "       [ 8525.30007694],\n",
       "       [32221.61500274],\n",
       "       [ 8525.30007694],\n",
       "       [ 8525.30007694],\n",
       "       [ 8525.30007694],\n",
       "       [ 8525.30007694],\n",
       "       [ 8525.30007694],\n",
       "       [ 8525.30007694],\n",
       "       [32221.61500274],\n",
       "       [ 8525.30007694],\n",
       "       [ 8525.30007694],\n",
       "       [ 8525.30007694],\n",
       "       [ 8525.30007694],\n",
       "       [ 8525.30007694],\n",
       "       [32221.61500274],\n",
       "       [32221.61500274],\n",
       "       [ 8525.30007694],\n",
       "       [ 8525.30007694],\n",
       "       [ 8525.30007694],\n",
       "       [ 8525.30007694],\n",
       "       [ 8525.30007694],\n",
       "       [ 8525.30007694],\n",
       "       [ 8525.30007694],\n",
       "       [ 8525.30007694],\n",
       "       [ 8525.30007694],\n",
       "       [ 8525.30007694],\n",
       "       [32221.61500274],\n",
       "       [32221.61500274],\n",
       "       [ 8525.30007694],\n",
       "       [32221.61500274],\n",
       "       [ 8525.30007694],\n",
       "       [ 8525.30007694],\n",
       "       [ 8525.30007694],\n",
       "       [ 8525.30007694],\n",
       "       [32221.61500274],\n",
       "       [ 8525.30007694],\n",
       "       [ 8525.30007694],\n",
       "       [ 8525.30007694],\n",
       "       [ 8525.30007694],\n",
       "       [ 8525.30007694],\n",
       "       [ 8525.30007694],\n",
       "       [ 8525.30007694],\n",
       "       [ 8525.30007694],\n",
       "       [ 8525.30007694],\n",
       "       [ 8525.30007694],\n",
       "       [ 8525.30007694],\n",
       "       [32221.61500274],\n",
       "       [ 8525.30007694],\n",
       "       [ 8525.30007694],\n",
       "       [ 8525.30007694],\n",
       "       [ 8525.30007694],\n",
       "       [ 8525.30007694],\n",
       "       [ 8525.30007694],\n",
       "       [ 8525.30007694],\n",
       "       [ 8525.30007694],\n",
       "       [ 8525.30007694],\n",
       "       [32221.61500274],\n",
       "       [ 8525.30007694],\n",
       "       [ 8525.30007694],\n",
       "       [32221.61500274],\n",
       "       [ 8525.30007694],\n",
       "       [32221.61500274],\n",
       "       [32221.61500274],\n",
       "       [ 8525.30007694],\n",
       "       [ 8525.30007694],\n",
       "       [ 8525.30007694],\n",
       "       [ 8525.30007694],\n",
       "       [ 8525.30007694],\n",
       "       [ 8525.30007694],\n",
       "       [ 8525.30007694],\n",
       "       [ 8525.30007694],\n",
       "       [32221.61500274],\n",
       "       [ 8525.30007694],\n",
       "       [ 8525.30007694],\n",
       "       [32221.61500274],\n",
       "       [ 8525.30007694],\n",
       "       [ 8525.30007694],\n",
       "       [ 8525.30007694],\n",
       "       [32221.61500274],\n",
       "       [ 8525.30007694],\n",
       "       [ 8525.30007694],\n",
       "       [ 8525.30007694],\n",
       "       [32221.61500274],\n",
       "       [ 8525.30007694],\n",
       "       [32221.61500274],\n",
       "       [32221.61500274],\n",
       "       [ 8525.30007694],\n",
       "       [32221.61500274],\n",
       "       [ 8525.30007694],\n",
       "       [32221.61500274],\n",
       "       [ 8525.30007694],\n",
       "       [ 8525.30007694],\n",
       "       [ 8525.30007694],\n",
       "       [ 8525.30007694],\n",
       "       [ 8525.30007694],\n",
       "       [ 8525.30007694],\n",
       "       [32221.61500274],\n",
       "       [ 8525.30007694],\n",
       "       [ 8525.30007694],\n",
       "       [ 8525.30007694],\n",
       "       [32221.61500274],\n",
       "       [ 8525.30007694],\n",
       "       [ 8525.30007694],\n",
       "       [ 8525.30007694],\n",
       "       [ 8525.30007694],\n",
       "       [32221.61500274],\n",
       "       [ 8525.30007694],\n",
       "       [ 8525.30007694],\n",
       "       [ 8525.30007694],\n",
       "       [32221.61500274],\n",
       "       [ 8525.30007694],\n",
       "       [32221.61500274],\n",
       "       [32221.61500274],\n",
       "       [ 8525.30007694],\n",
       "       [32221.61500274],\n",
       "       [ 8525.30007694],\n",
       "       [ 8525.30007694],\n",
       "       [ 8525.30007694],\n",
       "       [ 8525.30007694],\n",
       "       [ 8525.30007694],\n",
       "       [ 8525.30007694],\n",
       "       [ 8525.30007694],\n",
       "       [ 8525.30007694],\n",
       "       [32221.61500274],\n",
       "       [32221.61500274],\n",
       "       [ 8525.30007694],\n",
       "       [ 8525.30007694],\n",
       "       [ 8525.30007694],\n",
       "       [ 8525.30007694],\n",
       "       [ 8525.30007694],\n",
       "       [ 8525.30007694],\n",
       "       [ 8525.30007694],\n",
       "       [ 8525.30007694],\n",
       "       [32221.61500274],\n",
       "       [32221.61500274],\n",
       "       [ 8525.30007694],\n",
       "       [32221.61500274],\n",
       "       [ 8525.30007694],\n",
       "       [ 8525.30007694],\n",
       "       [ 8525.30007694],\n",
       "       [ 8525.30007694],\n",
       "       [ 8525.30007694],\n",
       "       [ 8525.30007694],\n",
       "       [ 8525.30007694],\n",
       "       [ 8525.30007694],\n",
       "       [ 8525.30007694],\n",
       "       [ 8525.30007694],\n",
       "       [ 8525.30007694],\n",
       "       [ 8525.30007694],\n",
       "       [32221.61500274],\n",
       "       [32221.61500274],\n",
       "       [32221.61500274],\n",
       "       [ 8525.30007694],\n",
       "       [ 8525.30007694],\n",
       "       [32221.61500274],\n",
       "       [ 8525.30007694],\n",
       "       [32221.61500274]])"
      ]
     },
     "execution_count": 17,
     "metadata": {},
     "output_type": "execute_result"
    }
   ],
   "source": [
    "Y_pred"
   ]
  },
  {
   "cell_type": "code",
   "execution_count": 18,
   "metadata": {
    "colab": {
     "base_uri": "https://localhost:8080/"
    },
    "executionInfo": {
     "elapsed": 944,
     "status": "ok",
     "timestamp": 1612775399231,
     "user": {
      "displayName": "Sagar Shinde",
      "photoUrl": "",
      "userId": "15876155479888133658"
     },
     "user_tz": -330
    },
    "id": "QNPnXaG9wPm0",
    "outputId": "ac7e75f3-3898-46bf-dc51-c9308da46644"
   },
   "outputs": [
    {
     "name": "stdout",
     "output_type": "stream",
     "text": [
      "0.5873875312183237\n"
     ]
    }
   ],
   "source": [
    "#Evaluation with single variable\n",
    "\n",
    "print(simple_linreg.score(pd.DataFrame(X_test.smoker),Y_test))"
   ]
  },
  {
   "cell_type": "code",
   "execution_count": 19,
   "metadata": {
    "executionInfo": {
     "elapsed": 1032,
     "status": "ok",
     "timestamp": 1612775090323,
     "user": {
      "displayName": "Sagar Shinde",
      "photoUrl": "",
      "userId": "15876155479888133658"
     },
     "user_tz": -330
    },
    "id": "MhCcbQqkxdlE"
   },
   "outputs": [],
   "source": [
    "#Include multiple variables in regression\n",
    "\n",
    "linreg = LinearRegression()\n",
    "\n",
    "#Fit or train the model with training data\n",
    "linreg.fit(X_train , Y_train)\n",
    "\n",
    "#Predict for the test set\n",
    "Y_pred_new = linreg.predict(X_test)"
   ]
  },
  {
   "cell_type": "code",
   "execution_count": 20,
   "metadata": {
    "colab": {
     "base_uri": "https://localhost:8080/"
    },
    "executionInfo": {
     "elapsed": 970,
     "status": "ok",
     "timestamp": 1612775322031,
     "user": {
      "displayName": "Sagar Shinde",
      "photoUrl": "",
      "userId": "15876155479888133658"
     },
     "user_tz": -330
    },
    "id": "SFBfVym637fd",
    "outputId": "c2299605-8a5a-41d3-e550-c4fe13aaf37e"
   },
   "outputs": [
    {
     "name": "stdout",
     "output_type": "stream",
     "text": [
      "0.7449415564623687\n"
     ]
    }
   ],
   "source": [
    "#Evaluation with Muiltiple Variables\n",
    "print(linreg.score(X_test,Y_test))"
   ]
  },
  {
   "cell_type": "code",
   "execution_count": null,
   "metadata": {},
   "outputs": [],
   "source": []
  }
 ],
 "metadata": {
  "colab": {
   "authorship_tag": "ABX9TyNDLrGQzojEMl+t7HZLagoU",
   "mount_file_id": "1kkYVYa2B5feiLuz_HaV2rFDkdo_dfOnF",
   "name": "ML_Intro.ipynb",
   "provenance": []
  },
  "kernelspec": {
   "display_name": "Python 3",
   "language": "python",
   "name": "python3"
  },
  "language_info": {
   "codemirror_mode": {
    "name": "ipython",
    "version": 3
   },
   "file_extension": ".py",
   "mimetype": "text/x-python",
   "name": "python",
   "nbconvert_exporter": "python",
   "pygments_lexer": "ipython3",
   "version": "3.8.3"
  }
 },
 "nbformat": 4,
 "nbformat_minor": 1
}
